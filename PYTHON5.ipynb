{
 "cells": [
  {
   "cell_type": "code",
   "execution_count": null,
   "id": "3ffd88fd",
   "metadata": {},
   "outputs": [],
   "source": [
    "q1. what is the meaning of multiple inheritance python\n",
    "\n",
    "ANS:\n",
    "    When a class is derived from more than one base class it is called multiple Inheritance.\n",
    "    "
   ]
  },
  {
   "cell_type": "code",
   "execution_count": null,
   "id": "fb78c0c7",
   "metadata": {},
   "outputs": [],
   "source": [
    "Q2. What is the concept of delegation?\n",
    "\n",
    "ANS:\n",
    "    Delegation is an object oriented technique (also called a design pattern). Let's say you have an \n",
    "    object x and want to change the behaviour of just one of its methods. You can create a new class that provides \n",
    "    a new implementation of the method you're interested in changing and delegates all other methods to the \n",
    "    corresponding method of x.\n",
    "    Python programmers can easily implement delegation.\n",
    "    For example, the following class implements a class that behaves like a file but converts all \n",
    "    written data to uppercase:"
   ]
  },
  {
   "cell_type": "code",
   "execution_count": null,
   "id": "61818506",
   "metadata": {},
   "outputs": [],
   "source": [
    "class UpperOut:\n",
    "\n",
    "    def __init__(self, outfile):\n",
    "        self._outfile = outfile\n",
    "\n",
    "    def write(self, s):\n",
    "        self._outfile.write(s.upper())\n",
    "\n",
    "    def __getattr__(self, name):\n",
    "        return getattr(self._outfile, name)"
   ]
  },
  {
   "cell_type": "code",
   "execution_count": null,
   "id": "224dc275",
   "metadata": {},
   "outputs": [],
   "source": [
    "Q3. What is the concept of composition?\n",
    "\n",
    "ANS:\n",
    "    Composition is a concept that models a has a relationship. It enables creating complex types by combining \n",
    "    objects of other types. This means that a class Composite can contain an object of another class Component .\n",
    "    This relationship means that a Composite has a Component ."
   ]
  },
  {
   "cell_type": "code",
   "execution_count": null,
   "id": "15cc28a2",
   "metadata": {},
   "outputs": [],
   "source": [
    "Q4. What are bound methods and how do we use them?\n",
    "\n",
    "ANS:\n",
    "    A bound method is the one which is dependent on the instance of the class as the first argument.\n",
    "    It passes the instance as the first argument which is used to access the variables and functions. \n",
    "    In Python 3 and newer versions of python, all functions in the class are by default bound methods"
   ]
  },
  {
   "cell_type": "code",
   "execution_count": null,
   "id": "bd8c2179",
   "metadata": {},
   "outputs": [],
   "source": [
    "Q5. What is the purpose of pseudoprivate attributes?\n",
    "\n",
    "ANS:\n",
    "    This is sometimes misleadingly called private attributes really, it's just a way to localize a \n",
    "    name to the class that created it, and does not prevent access by code outside the class. That is,\n",
    "    this feature is mostly intended to avoid namespace collisions in instances, not to restrict\n",
    "    access to names in general."
   ]
  }
 ],
 "metadata": {
  "kernelspec": {
   "display_name": "Python 3 (ipykernel)",
   "language": "python",
   "name": "python3"
  },
  "language_info": {
   "codemirror_mode": {
    "name": "ipython",
    "version": 3
   },
   "file_extension": ".py",
   "mimetype": "text/x-python",
   "name": "python",
   "nbconvert_exporter": "python",
   "pygments_lexer": "ipython3",
   "version": "3.9.7"
  }
 },
 "nbformat": 4,
 "nbformat_minor": 5
}
